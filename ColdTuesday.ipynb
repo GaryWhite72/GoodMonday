{
 "cells": [
  {
   "cell_type": "code",
   "execution_count": 2,
   "metadata": {},
   "outputs": [
    {
     "name": "stdout",
     "output_type": "stream",
     "text": [
      "Hello World's\n"
     ]
    }
   ],
   "source": [
    "print (\"Hello World's\")"
   ]
  },
  {
   "cell_type": "code",
   "execution_count": 3,
   "metadata": {},
   "outputs": [
    {
     "data": {
      "text/plain": [
       "25"
      ]
     },
     "execution_count": 3,
     "metadata": {},
     "output_type": "execute_result"
    }
   ],
   "source": [
    "a = 10\n",
    "b = 15\n",
    "\n",
    "a + b"
   ]
  },
  {
   "cell_type": "code",
   "execution_count": 4,
   "metadata": {},
   "outputs": [
    {
     "data": {
      "text/plain": [
       "35"
      ]
     },
     "execution_count": 4,
     "metadata": {},
     "output_type": "execute_result"
    }
   ],
   "source": [
    "number1 = 15\n",
    "number2 = 20\n",
    "\n",
    "number1 + number2"
   ]
  },
  {
   "cell_type": "code",
   "execution_count": 1,
   "metadata": {},
   "outputs": [
    {
     "name": "stdout",
     "output_type": "stream",
     "text": [
      "55\n"
     ]
    }
   ],
   "source": [
    "number1 = int(input(\"Please input a number\"))\n",
    "number2 = int(input(\"Please input a second number\"))\n",
    "\n",
    "total= number1 + number2\n",
    "\n",
    "print(total)"
   ]
  },
  {
   "cell_type": "code",
   "execution_count": 2,
   "metadata": {},
   "outputs": [
    {
     "data": {
      "text/plain": [
       "1.4"
      ]
     },
     "execution_count": 2,
     "metadata": {},
     "output_type": "execute_result"
    }
   ],
   "source": [
    "7/5"
   ]
  },
  {
   "cell_type": "code",
   "execution_count": 3,
   "metadata": {},
   "outputs": [
    {
     "data": {
      "text/plain": [
       "1"
      ]
     },
     "execution_count": 3,
     "metadata": {},
     "output_type": "execute_result"
    }
   ],
   "source": [
    "7//5\n"
   ]
  },
  {
   "cell_type": "code",
   "execution_count": null,
   "metadata": {},
   "outputs": [],
   "source": []
  },
  {
   "cell_type": "code",
   "execution_count": 4,
   "metadata": {},
   "outputs": [
    {
     "data": {
      "text/plain": [
       "1"
      ]
     },
     "execution_count": 4,
     "metadata": {},
     "output_type": "execute_result"
    }
   ],
   "source": [
    "10%3"
   ]
  },
  {
   "cell_type": "code",
   "execution_count": 8,
   "metadata": {},
   "outputs": [
    {
     "name": "stdout",
     "output_type": "stream",
     "text": [
      "11.333333333333334\n"
     ]
    }
   ],
   "source": [
    "number1 = int(input(\"Please input a number: \"))\n",
    "number2 = int(input(\"Please input a second number: \"))\n",
    "number3 = int(input(\"Please input a third number: \"))\n",
    "\n",
    "\n",
    "average= (number1 + number2 + number3) /3\n",
    "\n",
    "print(average)"
   ]
  },
  {
   "cell_type": "code",
   "execution_count": 15,
   "metadata": {},
   "outputs": [
    {
     "name": "stdout",
     "output_type": "stream",
     "text": [
      "second_number is greater than the first_number\n"
     ]
    }
   ],
   "source": [
    "#ask user for inputs\n",
    "first_number = int(input(\"please enter a number\"))\n",
    "second_number = int(input(\"please enter a second number\"))\n",
    "\n",
    "#condition\n",
    "if first_number >= second_number:\n",
    "    print(\"first_number is greater than the second_number\")\n",
    "elif second_number > first_number:\n",
    "    print(\"second_number is greater than the first_number\")"
   ]
  },
  {
   "cell_type": "code",
   "execution_count": 19,
   "metadata": {},
   "outputs": [
    {
     "name": "stdout",
     "output_type": "stream",
     "text": [
      "was born on  a leap year\n"
     ]
    }
   ],
   "source": [
    "#Ask user for bith year\n",
    "birth_year = int(input(\"please input your year of birth\"))\n",
    "\n",
    "#divide user input by 4 (using modulo as we want the remainder to be zero)\n",
    "if birth_year%4 == 0:\n",
    "    print(\"was born on a leap year\")\n",
    "else:\n",
    "    print(\"was not born on a leap year\")\n",
    "\n",
    "\n"
   ]
  },
  {
   "cell_type": "code",
   "execution_count": 23,
   "metadata": {},
   "outputs": [
    {
     "name": "stdout",
     "output_type": "stream",
     "text": [
      "the price for swimming is £2.5\n"
     ]
    }
   ],
   "source": [
    "#if statement to calculate the admission price on various criteria\n",
    "user_age = int(input(\"What is your age\"))\n",
    "\n",
    "price = 5\n",
    "\n",
    "if user_age >=65 and user_age <20:\n",
    "   price = 0\n",
    "else:\n",
    "   swim_card = input(\"Do you have a swim card (yes/no\").lower()\n",
    "   if swim_card == \"yes\":\n",
    "      price = 2.5\n",
    "   else:\n",
    "      price = 5\n",
    "print(\"the price for swimming is £\" + str(price))\n",
    "    "
   ]
  },
  {
   "cell_type": "code",
   "execution_count": 26,
   "metadata": {},
   "outputs": [
    {
     "name": "stdout",
     "output_type": "stream",
     "text": [
      "0\n",
      "1\n",
      "2\n",
      "3\n",
      "4\n",
      "5\n",
      "6\n",
      "7\n",
      "8\n",
      "9\n"
     ]
    }
   ],
   "source": [
    "for counter in range(10):\n",
    "    print(counter)"
   ]
  },
  {
   "cell_type": "code",
   "execution_count": 27,
   "metadata": {},
   "outputs": [
    {
     "name": "stdout",
     "output_type": "stream",
     "text": [
      "it is a good day\n",
      "it is a good day\n",
      "it is a good day\n",
      "it is a good day\n",
      "it is a good day\n",
      "it is a good day\n",
      "it is a good day\n",
      "it is a good day\n",
      "it is a good day\n",
      "it is a good day\n",
      "it is a good day\n",
      "it is a good day\n",
      "it is a good day\n",
      "it is a good day\n",
      "it is a good day\n",
      "it is a good day\n",
      "it is a good day\n",
      "it is a good day\n",
      "it is a good day\n",
      "it is a good day\n"
     ]
    }
   ],
   "source": [
    "message= \"it is a good day\"\n",
    "for i in range(20):\n",
    "    print(message)"
   ]
  },
  {
   "cell_type": "code",
   "execution_count": null,
   "metadata": {},
   "outputs": [],
   "source": []
  }
 ],
 "metadata": {
  "kernelspec": {
   "display_name": "Python 3",
   "language": "python",
   "name": "python3"
  },
  "language_info": {
   "codemirror_mode": {
    "name": "ipython",
    "version": 3
   },
   "file_extension": ".py",
   "mimetype": "text/x-python",
   "name": "python",
   "nbconvert_exporter": "python",
   "pygments_lexer": "ipython3",
   "version": "3.13.0"
  }
 },
 "nbformat": 4,
 "nbformat_minor": 2
}
