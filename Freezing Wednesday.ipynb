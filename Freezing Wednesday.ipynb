{
 "cells": [
  {
   "cell_type": "code",
   "execution_count": 3,
   "metadata": {},
   "outputs": [
    {
     "name": "stdout",
     "output_type": "stream",
     "text": [
      "Maura\n",
      "['Gary', 'Maura', 'Eleanor', 'Alys']\n"
     ]
    }
   ],
   "source": [
    "#create a list\n",
    "\n",
    "my_list = ['Gary','Maura','Eleanor','Alys','Craig']\n",
    "print (my_list[1])\n",
    "#delete the 5th enrty in the list (0 is always the first index)\n",
    "del my_list[4]\n",
    "print(my_list)"
   ]
  },
  {
   "cell_type": "code",
   "execution_count": 5,
   "metadata": {},
   "outputs": [
    {
     "name": "stdout",
     "output_type": "stream",
     "text": [
      "['Craig', 'Gary', 'Maura', 'Eleanor', 'Alys']\n"
     ]
    }
   ],
   "source": [
    "#concatonate a list\n",
    "new_list= ['Craig'] + my_list\n",
    "print(new_list)\n"
   ]
  },
  {
   "cell_type": "code",
   "execution_count": 17,
   "metadata": {},
   "outputs": [
    {
     "name": "stdout",
     "output_type": "stream",
     "text": [
      "Gary\n"
     ]
    }
   ],
   "source": [
    "#Random choice\n",
    "import random\n",
    "name = random.choice(new_list)\n",
    "print(name)"
   ]
  },
  {
   "cell_type": "code",
   "execution_count": 19,
   "metadata": {},
   "outputs": [
    {
     "name": "stdout",
     "output_type": "stream",
     "text": [
      "[0, 1, 2, 3, 4]\n"
     ]
    }
   ],
   "source": [
    "#print index of a list\n",
    "final_list = []\n",
    "for i in new_list:\n",
    "    final_list.append(new_list.index(i))\n",
    "print(final_list)"
   ]
  },
  {
   "cell_type": "code",
   "execution_count": 20,
   "metadata": {},
   "outputs": [
    {
     "data": {
      "text/plain": [
       "5"
      ]
     },
     "execution_count": 20,
     "metadata": {},
     "output_type": "execute_result"
    }
   ],
   "source": [
    "len(final_list)"
   ]
  },
  {
   "cell_type": "code",
   "execution_count": 23,
   "metadata": {},
   "outputs": [
    {
     "data": {
      "text/plain": [
       "13"
      ]
     },
     "execution_count": 23,
     "metadata": {},
     "output_type": "execute_result"
    }
   ],
   "source": [
    "number_list = [0,3,6,4]\n",
    "sum(number_list)"
   ]
  },
  {
   "cell_type": "code",
   "execution_count": 24,
   "metadata": {},
   "outputs": [
    {
     "name": "stdout",
     "output_type": "stream",
     "text": [
      "0\n",
      "3\n",
      "6\n",
      "4\n"
     ]
    }
   ],
   "source": [
    "for i in number_list:\n",
    "    print(i)"
   ]
  },
  {
   "cell_type": "code",
   "execution_count": 25,
   "metadata": {},
   "outputs": [
    {
     "name": "stdout",
     "output_type": "stream",
     "text": [
      "That is not a valid integer, please enter an integer\n",
      "The sum of the numbers is: 225\n",
      "The average of the numbers is: 22.5\n",
      "10 is below average\n",
      "12 is below average\n",
      "4 is below average\n",
      "89 is above average\n",
      "45 is above average\n",
      "12 is below average\n",
      "4 is below average\n",
      "32 is above average\n",
      "7 is below average\n",
      "10 is below average\n"
     ]
    }
   ],
   "source": [
    "#task to create a list and do calculations on it and then add messages based on the outputs\n",
    "\n",
    "#create an empty list\n",
    "user_numbers = []\n",
    "#add ten integers to the empty list\n",
    "for i in range(1,11):\n",
    "    while True:\n",
    "        user_input = input(f\"Please enter an integer number #{i}: \")\n",
    "        try:\n",
    "            num = int(user_input)\n",
    "            user_numbers.append(num)\n",
    "            break\n",
    "        except ValueError:\n",
    "            print(\"That is not a valid integer, please enter an integer\")\n",
    "\n",
    "#calculate the sum and average of the numbers\n",
    "total_sum = sum(user_numbers)\n",
    "average = total_sum/len(user_numbers)\n",
    "\n",
    "#output the result\n",
    "print(f\"The sum of the numbers is: {total_sum}\")\n",
    "print(f\"The average of the numbers is: {average}\")\n",
    "\n",
    "#display the numbers based on their proportion\n",
    "for num in user_numbers:\n",
    "    if num < average:\n",
    "        proportion = \"below\"\n",
    "    elif num > average:\n",
    "        proportion = \"above\"\n",
    "    else:\n",
    "        proportion = \"equal to\"\n",
    "    print(f\"{num} is {proportion} average\")\n"
   ]
  },
  {
   "cell_type": "code",
   "execution_count": 40,
   "metadata": {},
   "outputs": [
    {
     "data": {
      "text/plain": [
       "90.9090909090909"
      ]
     },
     "execution_count": 40,
     "metadata": {},
     "output_type": "execute_result"
    }
   ],
   "source": [
    "#task to create a function to convert lbs to kg\n",
    "def conversion_KG(lbs):\n",
    "    KG = lbs / 2.2\n",
    "    return KG\n",
    "\n",
    "conversion_KG(200)\n",
    "\n",
    "    \n"
   ]
  },
  {
   "cell_type": "code",
   "execution_count": 39,
   "metadata": {},
   "outputs": [
    {
     "data": {
      "text/plain": [
       "37.77777777777778"
      ]
     },
     "execution_count": 39,
     "metadata": {},
     "output_type": "execute_result"
    }
   ],
   "source": [
    "#task to create F to C\n",
    "def conversion_Celcius(Fahrenheit):\n",
    "    Celcius = (Fahrenheit -32) *(5/9)\n",
    "    return Celcius\n",
    "\n",
    "conversion_Celcius(100)"
   ]
  }
 ],
 "metadata": {
  "kernelspec": {
   "display_name": "Python 3",
   "language": "python",
   "name": "python3"
  },
  "language_info": {
   "codemirror_mode": {
    "name": "ipython",
    "version": 3
   },
   "file_extension": ".py",
   "mimetype": "text/x-python",
   "name": "python",
   "nbconvert_exporter": "python",
   "pygments_lexer": "ipython3",
   "version": "3.13.0"
  }
 },
 "nbformat": 4,
 "nbformat_minor": 2
}
